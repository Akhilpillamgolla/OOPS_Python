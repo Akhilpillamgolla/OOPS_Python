{
 "cells": [
  {
   "cell_type": "markdown",
   "metadata": {},
   "source": [
    "# Inheritance \n",
    "The ability to reuse code. this reduces the complexity of the program."
   ]
  },
  {
   "cell_type": "code",
   "execution_count": 7,
   "metadata": {},
   "outputs": [],
   "source": [
    "class Laptop():  # base class\n",
    "    \n",
    "    def __init__(self) :\n",
    "        print('Laptop Manufactured')"
   ]
  },
  {
   "cell_type": "code",
   "execution_count": 6,
   "metadata": {},
   "outputs": [
    {
     "name": "stdout",
     "output_type": "stream",
     "text": [
      "Laptop Manufactured\n"
     ]
    }
   ],
   "source": [
    "myLappy = Laptop() #instance created"
   ]
  },
  {
   "cell_type": "code",
   "execution_count": 25,
   "metadata": {},
   "outputs": [],
   "source": [
    "# multiple methods in class.\n",
    "class Laptop():  # base class\n",
    "    \n",
    "    def __init__(self) :\n",
    "        print('Laptop Manufactured')\n",
    "    def spares(self) :\n",
    "        print('Keyboard')\n",
    "    def cost(self) :\n",
    "        print('too much ')"
   ]
  },
  {
   "cell_type": "code",
   "execution_count": 26,
   "metadata": {},
   "outputs": [
    {
     "name": "stdout",
     "output_type": "stream",
     "text": [
      "Laptop Manufactured\n"
     ]
    }
   ],
   "source": [
    "myLappy = Laptop() #instance created"
   ]
  },
  {
   "cell_type": "code",
   "execution_count": 27,
   "metadata": {},
   "outputs": [
    {
     "name": "stdout",
     "output_type": "stream",
     "text": [
      "too much \n"
     ]
    }
   ],
   "source": [
    "myLappy.cost()"
   ]
  },
  {
   "cell_type": "code",
   "execution_count": 19,
   "metadata": {},
   "outputs": [
    {
     "name": "stdout",
     "output_type": "stream",
     "text": [
      "Keyboard\n"
     ]
    }
   ],
   "source": [
    "myLappy.spares()"
   ]
  },
  {
   "cell_type": "code",
   "execution_count": 48,
   "metadata": {},
   "outputs": [],
   "source": [
    "# inheriting laptop class to mobile clas s \n",
    "class Mobile(Laptop): \n",
    "    # also called as derived class as it derives data from laptop class\n",
    "    def __init__(self):\n",
    "        Laptop.__init__(self) # create instance of laptop class when we create mobile class.\n",
    "        print(\"Mobile Manufactured\")"
   ]
  },
  {
   "cell_type": "code",
   "execution_count": 49,
   "metadata": {},
   "outputs": [
    {
     "name": "stdout",
     "output_type": "stream",
     "text": [
      "Laptop Manufactured\n",
      "Mobile Manufactured\n"
     ]
    }
   ],
   "source": [
    "mymobile = Mobile()"
   ]
  },
  {
   "cell_type": "code",
   "execution_count": 34,
   "metadata": {},
   "outputs": [
    {
     "name": "stdout",
     "output_type": "stream",
     "text": [
      "too much \n"
     ]
    }
   ],
   "source": [
    "mymobile.cost()      # we got the methods from laptop"
   ]
  },
  {
   "cell_type": "code",
   "execution_count": 50,
   "metadata": {},
   "outputs": [
    {
     "name": "stdout",
     "output_type": "stream",
     "text": [
      "Keyboard\n"
     ]
    }
   ],
   "source": [
    "mymobile.spares()"
   ]
  },
  {
   "cell_type": "code",
   "execution_count": 52,
   "metadata": {},
   "outputs": [],
   "source": [
    "# overiding Existing Methods\n",
    "class Mobile(Laptop): \n",
    "    # also called as derived class as it derives data from laptop class\n",
    "    def __init__(self):\n",
    "        Laptop.__init__(self) # create instance of laptop class when we create mobile class.\n",
    "        print(\"Mobile Manufactured\")\n",
    "    def spares(self):      # make sure  you use same name.\n",
    "        print('TouchScreen')"
   ]
  },
  {
   "cell_type": "code",
   "execution_count": 53,
   "metadata": {},
   "outputs": [
    {
     "name": "stdout",
     "output_type": "stream",
     "text": [
      "Laptop Manufactured\n",
      "Mobile Manufactured\n"
     ]
    }
   ],
   "source": [
    "mymobile = Mobile() # make sure this is there."
   ]
  },
  {
   "cell_type": "code",
   "execution_count": 54,
   "metadata": {},
   "outputs": [
    {
     "name": "stdout",
     "output_type": "stream",
     "text": [
      "TouchScreen\n"
     ]
    }
   ],
   "source": [
    "mymobile.spares()  # earlier keyboard now TouchScreen"
   ]
  },
  {
   "cell_type": "code",
   "execution_count": 56,
   "metadata": {},
   "outputs": [],
   "source": [
    "# add some methods in child class.\n",
    "# overiding Existing Methods\n",
    "class Mobile(Laptop): \n",
    "    # also called as derived class as it derives data from laptop class\n",
    "    def __init__(self):\n",
    "        Laptop.__init__(self) # create instance of laptop class when we create mobile class.\n",
    "        print(\"Mobile Manufactured\")\n",
    "    def spares(self):      # make sure  you use same name.\n",
    "        print('TouchScreen')\n",
    "    def feature(self):      # <--- new method not function\n",
    "        print('Feature Rich')\n"
   ]
  },
  {
   "cell_type": "code",
   "execution_count": 57,
   "metadata": {},
   "outputs": [
    {
     "name": "stdout",
     "output_type": "stream",
     "text": [
      "Laptop Manufactured\n",
      "Mobile Manufactured\n"
     ]
    }
   ],
   "source": [
    "mymobile = Mobile() # make sure this is there."
   ]
  },
  {
   "cell_type": "code",
   "execution_count": 60,
   "metadata": {},
   "outputs": [
    {
     "name": "stdout",
     "output_type": "stream",
     "text": [
      "Feature Rich\n"
     ]
    }
   ],
   "source": [
    "mymobile.feature()  # earlier keyboard now TouchScreen"
   ]
  },
  {
   "cell_type": "markdown",
   "metadata": {},
   "source": [
    "## Polymorphism\n",
    "Diffrent object in class have same method name.\n",
    "\n",
    "(less important)"
   ]
  },
  {
   "cell_type": "code",
   "execution_count": 67,
   "metadata": {},
   "outputs": [],
   "source": [
    "class MEN:\n",
    "    def __init__(self, name):\n",
    "        self.name = name\n",
    "\n",
    "    def speak(self):\n",
    "        return self.name+' Hey Hi'"
   ]
  },
  {
   "cell_type": "code",
   "execution_count": 68,
   "metadata": {},
   "outputs": [],
   "source": [
    "class WOMEN:\n",
    "    def __init__(self, name):\n",
    "        self.name = name\n",
    "\n",
    "    def speak(self):\n",
    "        return self.name+' hello' "
   ]
  },
  {
   "cell_type": "code",
   "execution_count": 78,
   "metadata": {},
   "outputs": [],
   "source": [
    "# creating instance \n",
    "AKHIL = MEN('Akhil')\n",
    "ROSE = WOMEN('Rose')"
   ]
  },
  {
   "cell_type": "code",
   "execution_count": 79,
   "metadata": {},
   "outputs": [
    {
     "name": "stdout",
     "output_type": "stream",
     "text": [
      "Akhil Hey Hi\n"
     ]
    }
   ],
   "source": [
    "print(AKHIL.speak())"
   ]
  },
  {
   "cell_type": "code",
   "execution_count": 80,
   "metadata": {},
   "outputs": [
    {
     "name": "stdout",
     "output_type": "stream",
     "text": [
      "Rose hello\n"
     ]
    }
   ],
   "source": [
    "print(ROSE.speak())"
   ]
  },
  {
   "cell_type": "code",
   "execution_count": 82,
   "metadata": {},
   "outputs": [
    {
     "name": "stdout",
     "output_type": "stream",
     "text": [
      "<class '__main__.MEN'>\n",
      "Akhil Hey Hi\n",
      "<class '__main__.WOMEN'>\n",
      "Rose hello\n"
     ]
    }
   ],
   "source": [
    "# to see polymorphism \n",
    "for human in [AKHIL,ROSE]:\n",
    "    print(type(human))   # human is class\n",
    "    print((human.speak()))"
   ]
  },
  {
   "cell_type": "code",
   "execution_count": 83,
   "metadata": {},
   "outputs": [],
   "source": [
    "# 2nd Approch \n",
    "def human_Speak(human):\n",
    "    print(human.speak())"
   ]
  },
  {
   "cell_type": "code",
   "execution_count": 84,
   "metadata": {},
   "outputs": [
    {
     "name": "stdout",
     "output_type": "stream",
     "text": [
      "Akhil Hey Hi\n"
     ]
    }
   ],
   "source": [
    "human_Speak(AKHIL)"
   ]
  },
  {
   "cell_type": "code",
   "execution_count": 85,
   "metadata": {},
   "outputs": [
    {
     "name": "stdout",
     "output_type": "stream",
     "text": [
      "Rose hello\n"
     ]
    }
   ],
   "source": [
    "human_Speak(ROSE)"
   ]
  },
  {
   "cell_type": "markdown",
   "metadata": {},
   "source": [
    "ABSTRACT : </br>\n",
    "    This dont give instance. This only created with base class."
   ]
  },
  {
   "cell_type": "code",
   "execution_count": 86,
   "metadata": {},
   "outputs": [],
   "source": [
    "class Animal():\n",
    "    \n",
    "    def __init__(self,name):\n",
    "        self.name = name \n",
    "    def speak(self):\n",
    "        raise NotImplementedError('Sub class must be implemented with abstract method') "
   ]
  },
  {
   "cell_type": "code",
   "execution_count": null,
   "metadata": {},
   "outputs": [],
   "source": [
    "# approch 1 - this dont work \n",
    "# creating instance.\n",
    "myanimal = Animal('Lion')"
   ]
  },
  {
   "cell_type": "code",
   "execution_count": 87,
   "metadata": {},
   "outputs": [
    {
     "ename": "AttributeError",
     "evalue": "'Laptop' object has no attribute 'speak'",
     "output_type": "error",
     "traceback": [
      "\u001b[1;31m---------------------------------------------------------------------------\u001b[0m",
      "\u001b[1;31mAttributeError\u001b[0m                            Traceback (most recent call last)",
      "Cell \u001b[1;32mIn[87], line 1\u001b[0m\n\u001b[1;32m----> 1\u001b[0m \u001b[43mmyanimal\u001b[49m\u001b[38;5;241;43m.\u001b[39;49m\u001b[43mspeak\u001b[49m()\n",
      "\u001b[1;31mAttributeError\u001b[0m: 'Laptop' object has no attribute 'speak'"
     ]
    }
   ],
   "source": [
    "myanimal.speak()   # we get error as we did not implement this methods."
   ]
  },
  {
   "cell_type": "code",
   "execution_count": 97,
   "metadata": {},
   "outputs": [],
   "source": [
    "#Approch 2 - This will work.\n",
    "class dog(Animal):\n",
    "    def speak(self):\n",
    "        print('I can Speak')\n",
    "        return self.name + \" BOW BOW\""
   ]
  },
  {
   "cell_type": "code",
   "execution_count": 98,
   "metadata": {},
   "outputs": [],
   "source": [
    "# same data with diffrent class name \n",
    "class cat(Animal):\n",
    "    def speak(self):\n",
    "        print('I can Speak')\n",
    "        return self.name + \" MEOW\""
   ]
  },
  {
   "cell_type": "code",
   "execution_count": 99,
   "metadata": {},
   "outputs": [],
   "source": [
    "lilly = dog('Lilly')\n",
    "Cuty = cat('Cuty') "
   ]
  },
  {
   "cell_type": "code",
   "execution_count": 100,
   "metadata": {},
   "outputs": [
    {
     "name": "stdout",
     "output_type": "stream",
     "text": [
      "I can Speak\n",
      "Cuty MEOW\n"
     ]
    }
   ],
   "source": [
    "print(Cuty.speak())"
   ]
  },
  {
   "cell_type": "code",
   "execution_count": 101,
   "metadata": {},
   "outputs": [
    {
     "name": "stdout",
     "output_type": "stream",
     "text": [
      "I can Speak\n",
      "Lilly BOW BOW\n"
     ]
    }
   ],
   "source": [
    "print(lilly.speak())"
   ]
  }
 ],
 "metadata": {
  "kernelspec": {
   "display_name": "Python 3",
   "language": "python",
   "name": "python3"
  },
  "language_info": {
   "codemirror_mode": {
    "name": "ipython",
    "version": 3
   },
   "file_extension": ".py",
   "mimetype": "text/x-python",
   "name": "python",
   "nbconvert_exporter": "python",
   "pygments_lexer": "ipython3",
   "version": "3.12.2"
  }
 },
 "nbformat": 4,
 "nbformat_minor": 2
}
