{
 "cells": [
  {
   "cell_type": "markdown",
   "metadata": {},
   "source": [
    "OOPS : create object (method and attribute)\n",
    "Repetable."
   ]
  },
  {
   "cell_type": "markdown",
   "metadata": {},
   "source": [
    "Objects\n",
    "\n",
    "In Python, everything is an object. Remember from previous lectures we can use type() to check the type of object something is:"
   ]
  },
  {
   "cell_type": "code",
   "execution_count": 79,
   "metadata": {},
   "outputs": [
    {
     "name": "stdout",
     "output_type": "stream",
     "text": [
      "<class 'int'>\n",
      "<class 'list'>\n",
      "<class 'tuple'>\n",
      "<class 'dict'>\n"
     ]
    }
   ],
   "source": [
    "# printing some object in python\n",
    "print(type(1))\n",
    "print(type([]))\n",
    "print(type(()))\n",
    "print(type({}))"
   ]
  },
  {
   "cell_type": "markdown",
   "metadata": {},
   "source": [
    "# Code \n",
    "Syntax"
   ]
  },
  {
   "cell_type": "raw",
   "metadata": {},
   "source": [
    "# some time class = object \n",
    "class name_of_class(): ## this follow camel casing  (variable and fun name are lower case)\n",
    "    def __init__(self,param1,param2): # method as its inside object or class call. Init will allow to create instance of actual object.\n",
    "        self.param1 = param1\n",
    "        self.param2 = param2 # refereing to attribute.(this connect to actual instance of class instead of global variable)\n",
    "        \n",
    "        def some_method(self):\n",
    "            #perform some action \n",
    "            print(self.param1)\n",
    "            ------------------------------------------------------------------------------\n",
    "            __init__ also called as methiod"
   ]
  },
  {
   "cell_type": "markdown",
   "metadata": {},
   "source": [
    "class : Blueprint of object. we can create an insatance of object. instance is a specific object created from a specific class.\n"
   ]
  },
  {
   "cell_type": "code",
   "execution_count": null,
   "metadata": {},
   "outputs": [],
   "source": [
    "class Sample():  # class creation  (we can write any thing in place of sample)\n",
    "    pass "
   ]
  },
  {
   "cell_type": "code",
   "execution_count": null,
   "metadata": {},
   "outputs": [],
   "source": [
    "my_sample = Sample()  # created instance of class"
   ]
  },
  {
   "cell_type": "markdown",
   "metadata": {},
   "source": [
    "Attribute Creation : The syntax for creating an attribute is:\n",
    "                            `self.attribute = something`"
   ]
  },
  {
   "cell_type": "code",
   "execution_count": null,
   "metadata": {},
   "outputs": [],
   "source": [
    "# lets add attributes \n",
    "class Apple():\n",
    "                                       #init is also called as constructor of class,method.\n",
    "    def __init__(self,colour):         #this is method. init is called when ever we create a instance. \n",
    "        self.colour = colour           #self is must as it connect method to instance of class. seld is instance of object\n",
    "                                       #later we pass attribute to user to define."
   ]
  },
  {
   "cell_type": "code",
   "execution_count": null,
   "metadata": {},
   "outputs": [],
   "source": [
    "my_fruit = Apple()  # we get error if we dont pass colour parameter"
   ]
  },
  {
   "cell_type": "code",
   "execution_count": null,
   "metadata": {},
   "outputs": [],
   "source": [
    "my_fruit = Apple('RED') "
   ]
  },
  {
   "cell_type": "code",
   "execution_count": null,
   "metadata": {},
   "outputs": [],
   "source": [
    "my_fruit.colour"
   ]
  },
  {
   "cell_type": "code",
   "execution_count": null,
   "metadata": {},
   "outputs": [],
   "source": [
    "# the above can also be written as \n",
    "my_fruit = Apple(colour='Green') "
   ]
  },
  {
   "cell_type": "code",
   "execution_count": null,
   "metadata": {},
   "outputs": [],
   "source": [
    "my_fruit.colour"
   ]
  },
  {
   "cell_type": "code",
   "execution_count": null,
   "metadata": {},
   "outputs": [],
   "source": [
    "# we can also write above code like \n",
    "class Apple():\n",
    "    def __init__(self,mycolour) : # my colour is parameter\n",
    "        self.my_attribute = mycolour"
   ]
  },
  {
   "cell_type": "code",
   "execution_count": null,
   "metadata": {},
   "outputs": [],
   "source": [
    "my_fruit = Apple(mycolour='Brown')  # lhs must be new "
   ]
  },
  {
   "cell_type": "code",
   "execution_count": null,
   "metadata": {},
   "outputs": [],
   "source": [
    "my_fruit.my_attribute"
   ]
  },
  {
   "cell_type": "code",
   "execution_count": null,
   "metadata": {},
   "outputs": [],
   "source": [
    "# we cab know type \n",
    "type(my_fruit)   # this will tell us the class name."
   ]
  },
  {
   "cell_type": "markdown",
   "metadata": {},
   "source": [
    "## BUT by convention we make all three same \n",
    "def __init__(self,`colour`): </br>\n",
    "    self.`colour` = `colour`"
   ]
  },
  {
   "cell_type": "code",
   "execution_count": null,
   "metadata": {},
   "outputs": [],
   "source": [
    "# we can also have multiple parameters. \n",
    "class Mobile():\n",
    "    def __init__(self,Brand,Price,Display,Coslty):\n",
    "        self.Brand = Brand\n",
    "        self.Price = Price\n",
    "        self.Display = Display \n",
    "        self.Costly = Coslty   # if you dont write this then you cant print "
   ]
  },
  {
   "cell_type": "code",
   "execution_count": null,
   "metadata": {},
   "outputs": [],
   "source": [
    "# now letss pass values  \n",
    "my_phone = Mobile(Brand = 'Moto',Price = 16000,Display = 'Poled',Coslty=False)"
   ]
  },
  {
   "cell_type": "raw",
   "metadata": {},
   "source": [
    "# we cant write like this\n",
    "my_phone = Mobile(Brand = 'Moto')\n",
    "my_phone = Mobile(Price = 16000)\n",
    "my_phone = Mobile(Display = 'Poled')"
   ]
  },
  {
   "cell_type": "code",
   "execution_count": null,
   "metadata": {},
   "outputs": [],
   "source": [
    "# when we try to retrive \n",
    "my_phone.Price\n",
    "my_phone.Costly"
   ]
  },
  {
   "cell_type": "code",
   "execution_count": null,
   "metadata": {},
   "outputs": [],
   "source": [
    "class Mobile():\n",
    "    # class object attribute is same for any instance of class.\n",
    "    Mobile_Type = 'Android'   # we dont need self for this.\n",
    "    def __init__(self,Brand,Price,Display,Coslty):\n",
    "        self.Brand = Brand\n",
    "        self.Price = Price\n",
    "        self.Display = Display \n",
    "        self.Costly = Coslty   # if you dont write this then you cant print "
   ]
  },
  {
   "cell_type": "code",
   "execution_count": null,
   "metadata": {},
   "outputs": [],
   "source": [
    "# now letss pass values  \n",
    "my_phone = Mobile(Brand = 'Moto',Price = 16000,Display = 'Poled',Coslty=False)"
   ]
  },
  {
   "cell_type": "code",
   "execution_count": null,
   "metadata": {},
   "outputs": [],
   "source": [
    "Mobile.Mobile_Type"
   ]
  },
  {
   "cell_type": "markdown",
   "metadata": {},
   "source": [
    "# Methods : \n",
    "Methods are function that are acting on the object using self argument or self keyword. This is written only inside the class."
   ]
  },
  {
   "cell_type": "code",
   "execution_count": null,
   "metadata": {},
   "outputs": [],
   "source": [
    "class Mobile():\n",
    "    # class object attribute is same for any instance of class.\n",
    "    Mobile_Type = 'Android'   # we dont need self for this.\n",
    "    def __init__(self,Brand,Price,Display,Coslty):\n",
    "        self.Brand = Brand\n",
    "        self.Price = Price\n",
    "        self.Display = Display \n",
    "        self.Costly = Coslty   # if you dont write this then you cant print \n",
    "        "
   ]
  },
  {
   "cell_type": "code",
   "execution_count": null,
   "metadata": {},
   "outputs": [],
   "source": [
    "class Mobile():\n",
    "    # class object attribute is same for any instance of class.\n",
    "    Mobile_Type = 'Android'   # we dont need self for this.\n",
    "    def __init__(self,Brand,Display):\n",
    "        self.Brand = Brand\n",
    "        self.Display = Display   # if you dont write this then you cant print \n",
    "        ## method creation\n",
    "    def scratch(self):  # using self we can connect to object\n",
    "        print('level 7')"
   ]
  },
  {
   "cell_type": "code",
   "execution_count": null,
   "metadata": {},
   "outputs": [],
   "source": [
    "# now letss pass values  \n",
    "my_phone = Mobile(Brand = 'Moto',Display = 'Poled')"
   ]
  },
  {
   "cell_type": "code",
   "execution_count": null,
   "metadata": {},
   "outputs": [],
   "source": [
    "my_phone.Brand  # attributes dont have (). we just call back. we dont execute."
   ]
  },
  {
   "cell_type": "code",
   "execution_count": null,
   "metadata": {},
   "outputs": [],
   "source": [
    "my_phone.scratch  # we must have ()"
   ]
  },
  {
   "cell_type": "code",
   "execution_count": null,
   "metadata": {},
   "outputs": [],
   "source": [
    "my_phone.scratch()  # method use information about object itself."
   ]
  },
  {
   "cell_type": "code",
   "execution_count": 40,
   "metadata": {},
   "outputs": [],
   "source": [
    "# adding addition info to print in method.\n",
    "class Mobile():\n",
    "    # class object attribute is same for any instance of class.\n",
    "    Mobile_Type = 'Android'   # we dont need self for this.\n",
    "    def __init__(self,Brand,Display):\n",
    "        self.Brand = Brand\n",
    "        self.Display = Display   # if you dont write this then you cant print \n",
    "        ## method creation\n",
    "    def scratch(self):  # using self we can connect to object\n",
    "        print(\"my display type is {} I will break at level 7 \".format(self.Display)) # self is must <--"
   ]
  },
  {
   "cell_type": "code",
   "execution_count": 43,
   "metadata": {},
   "outputs": [],
   "source": [
    "# now letss pass values  \n",
    "my_phone = Mobile(Brand = 'Moto',Display = 'Poled') #always pass the values \n",
    "# else it execute previous Values"
   ]
  },
  {
   "cell_type": "code",
   "execution_count": 44,
   "metadata": {},
   "outputs": [
    {
     "name": "stdout",
     "output_type": "stream",
     "text": [
      "my display type is Poled I will break at level 7 \n"
     ]
    }
   ],
   "source": [
    "my_phone.scratch()  # method use information about object itself."
   ]
  },
  {
   "cell_type": "code",
   "execution_count": 51,
   "metadata": {},
   "outputs": [],
   "source": [
    "#methods can also  take some parameters  like user call\n",
    "# adding addition info to print in method.\n",
    "class Mobile():\n",
    "    # class object attribute is same for any instance of class.\n",
    "    Mobile_Type = 'Android'   # we dont need self for this.\n",
    "    def __init__(self,Brand,Display):\n",
    "        self.Brand = Brand\n",
    "        self.Display = Display   # if you dont write this then you cant print \n",
    "        ## method creation\n",
    "    def scratch(self,size):  # using self we can connect to object\n",
    "        print(\"my display type is {} . My screen size is {}\".format(self.Display,size)) # self is must <--\n",
    "        # we no need to write self agian in last line. "
   ]
  },
  {
   "cell_type": "code",
   "execution_count": 52,
   "metadata": {},
   "outputs": [],
   "source": [
    "# now letss pass values  \n",
    "my_phone = Mobile(Brand = 'Moto',Display = 'Poled') #always pass the values \n",
    "# else it execute previous Values"
   ]
  },
  {
   "cell_type": "code",
   "execution_count": 53,
   "metadata": {},
   "outputs": [
    {
     "ename": "TypeError",
     "evalue": "Mobile.scratch() missing 1 required positional argument: 'size'",
     "output_type": "error",
     "traceback": [
      "\u001b[1;31m---------------------------------------------------------------------------\u001b[0m",
      "\u001b[1;31mTypeError\u001b[0m                                 Traceback (most recent call last)",
      "Cell \u001b[1;32mIn[53], line 1\u001b[0m\n\u001b[1;32m----> 1\u001b[0m \u001b[43mmy_phone\u001b[49m\u001b[38;5;241;43m.\u001b[39;49m\u001b[43mscratch\u001b[49m\u001b[43m(\u001b[49m\u001b[43m)\u001b[49m\n",
      "\u001b[1;31mTypeError\u001b[0m: Mobile.scratch() missing 1 required positional argument: 'size'"
     ]
    }
   ],
   "source": [
    "my_phone.scratch() # we must mention value else  we get error"
   ]
  },
  {
   "cell_type": "code",
   "execution_count": 54,
   "metadata": {},
   "outputs": [
    {
     "name": "stdout",
     "output_type": "stream",
     "text": [
      "my display type is Poled . My screen size is 6.2 inches\n"
     ]
    }
   ],
   "source": [
    "my_phone.scratch('6.2 inches')"
   ]
  },
  {
   "cell_type": "markdown",
   "metadata": {},
   "source": [
    "###  Circle Related code"
   ]
  },
  {
   "cell_type": "code",
   "execution_count": 60,
   "metadata": {},
   "outputs": [],
   "source": [
    "class Circle:\n",
    "    pi = 3.14  # class object attribute \n",
    "    \n",
    "    # Circle gets instantiated with a radius (default is 1)\n",
    "    def __init__(self, radius=1):  # providing default parameters here (attribute).\n",
    "        self.radius = radius \n",
    "        # Method for getting Circumference\n",
    "    def getCircumference(self):\n",
    "        return self.radius * self.pi * 2    "
   ]
  },
  {
   "cell_type": "code",
   "execution_count": 61,
   "metadata": {},
   "outputs": [],
   "source": [
    "my_circle  = Circle()"
   ]
  },
  {
   "cell_type": "code",
   "execution_count": 63,
   "metadata": {},
   "outputs": [
    {
     "data": {
      "text/plain": [
       "3.14"
      ]
     },
     "execution_count": 63,
     "metadata": {},
     "output_type": "execute_result"
    }
   ],
   "source": [
    "my_circle.pi"
   ]
  },
  {
   "cell_type": "code",
   "execution_count": null,
   "metadata": {},
   "outputs": [],
   "source": [
    "my_circle.radius # 1 as we provided default values as 1."
   ]
  },
  {
   "cell_type": "code",
   "execution_count": 64,
   "metadata": {},
   "outputs": [],
   "source": [
    "# we can mention radus over here aswell.\n",
    "my_circle  = Circle(30)"
   ]
  },
  {
   "cell_type": "code",
   "execution_count": 65,
   "metadata": {},
   "outputs": [
    {
     "data": {
      "text/plain": [
       "30"
      ]
     },
     "execution_count": 65,
     "metadata": {},
     "output_type": "execute_result"
    }
   ],
   "source": [
    "my_circle.radius # 1 as we provided default values as 1."
   ]
  },
  {
   "cell_type": "code",
   "execution_count": 66,
   "metadata": {},
   "outputs": [
    {
     "data": {
      "text/plain": [
       "188.4"
      ]
     },
     "execution_count": 66,
     "metadata": {},
     "output_type": "execute_result"
    }
   ],
   "source": [
    "#calling method \n",
    "my_circle.getCircumference()"
   ]
  },
  {
   "cell_type": "code",
   "execution_count": 67,
   "metadata": {},
   "outputs": [],
   "source": [
    "# attribute not definign from particular parameter(area)\n",
    "class Circle:\n",
    "    pi = 3.14  # class object attribute \n",
    "    \n",
    "    # Circle gets instantiated with a radius (default is 1)\n",
    "    def __init__(self, radius=1):  # providing default parameters here (attribute).\n",
    "        self.radius = radius \n",
    "        self.area = radius*radius*self.pi  # <-- you cant send pi directly\n",
    "        # Method for getting Circumference\n",
    "    def getCircumference(self):\n",
    "        return self.radius * self.pi * 2    "
   ]
  },
  {
   "cell_type": "code",
   "execution_count": 72,
   "metadata": {},
   "outputs": [],
   "source": [
    "# we mention radius here.\n",
    "my_circle  = Circle(10) "
   ]
  },
  {
   "cell_type": "code",
   "execution_count": 73,
   "metadata": {},
   "outputs": [
    {
     "data": {
      "text/plain": [
       "314.0"
      ]
     },
     "execution_count": 73,
     "metadata": {},
     "output_type": "execute_result"
    }
   ],
   "source": [
    "my_circle.area  # this completly depend on radius."
   ]
  },
  {
   "cell_type": "code",
   "execution_count": 74,
   "metadata": {},
   "outputs": [],
   "source": [
    "# we can also use circle in plac of self for class object attribute.\n",
    "class Circle:\n",
    "    pi = 3.14  # class object attribute \n",
    "    \n",
    "    # Circle gets instantiated with a radius (default is 1)\n",
    "    def __init__(self, radius=1):  # providing default parameters here (attribute).\n",
    "        self.radius = radius \n",
    "        self.area = radius*radius*Circle.pi  # <-- circle instead of self\n",
    "        # Method for getting Circumference\n",
    "    def getCircumference(self):\n",
    "        return self.radius * Circle.pi * 2   # <-- circle instead of self"
   ]
  },
  {
   "cell_type": "code",
   "execution_count": 75,
   "metadata": {},
   "outputs": [],
   "source": [
    "# we mention radius here.\n",
    "my_circle  = Circle(10) "
   ]
  },
  {
   "cell_type": "code",
   "execution_count": 76,
   "metadata": {},
   "outputs": [
    {
     "data": {
      "text/plain": [
       "314.0"
      ]
     },
     "execution_count": 76,
     "metadata": {},
     "output_type": "execute_result"
    }
   ],
   "source": [
    "my_circle.area  # We get same result."
   ]
  },
  {
   "cell_type": "code",
   "execution_count": 77,
   "metadata": {},
   "outputs": [
    {
     "name": "stdout",
     "output_type": "stream",
     "text": [
      "Radius is:  1\n",
      "Area is:  3.14\n",
      "Circumference is:  6.28\n"
     ]
    }
   ],
   "source": [
    "# Final code\n",
    "class Circle:\n",
    "    pi = 3.14\n",
    "\n",
    "    # Circle gets instantiated with a radius (default is 1)\n",
    "    def __init__(self, radius=1):\n",
    "        self.radius = radius \n",
    "        self.area = radius * radius * Circle.pi\n",
    "\n",
    "    # Method for resetting Radius\n",
    "    def setRadius(self, new_radius):\n",
    "        self.radius = new_radius\n",
    "        self.area = new_radius * new_radius * self.pi\n",
    "\n",
    "    # Method for getting Circumference\n",
    "    def getCircumference(self):\n",
    "        return self.radius * self.pi * 2\n",
    "\n",
    "\n",
    "c = Circle()\n",
    "\n",
    "print('Radius is: ',c.radius)\n",
    "print('Area is: ',c.area)\n",
    "print('Circumference is: ',c.getCircumference())"
   ]
  },
  {
   "cell_type": "code",
   "execution_count": null,
   "metadata": {},
   "outputs": [],
   "source": []
  }
 ],
 "metadata": {
  "kernelspec": {
   "display_name": "Python 3",
   "language": "python",
   "name": "python3"
  },
  "language_info": {
   "codemirror_mode": {
    "name": "ipython",
    "version": 3
   },
   "file_extension": ".py",
   "mimetype": "text/x-python",
   "name": "python",
   "nbconvert_exporter": "python",
   "pygments_lexer": "ipython3",
   "version": "3.12.2"
  }
 },
 "nbformat": 4,
 "nbformat_minor": 2
}
